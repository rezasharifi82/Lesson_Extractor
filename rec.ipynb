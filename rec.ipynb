{
 "cells": [
  {
   "cell_type": "markdown",
   "metadata": {},
   "source": [
    "### Initialize"
   ]
  },
  {
   "cell_type": "code",
   "execution_count": 535,
   "metadata": {},
   "outputs": [],
   "source": [
    "import pandas as pd\n",
    "import numpy as np\n",
    "from bs4 import BeautifulSoup\n",
    "import re"
   ]
  },
  {
   "cell_type": "code",
   "execution_count": 52,
   "metadata": {},
   "outputs": [],
   "source": [
    "tutorial =\"https://realpython.com/beautiful-soup-web-scraper-python/\""
   ]
  },
  {
   "cell_type": "code",
   "execution_count": 538,
   "metadata": {},
   "outputs": [],
   "source": [
    "df=pd.read_html(\"dd.html\",encoding=\"utf-8\")[0]\n",
    "file=open(\"dd.html\",\"r\")\n"
   ]
  },
  {
   "cell_type": "markdown",
   "metadata": {},
   "source": [
    "### BS4 Parser to DataFrame"
   ]
  },
  {
   "cell_type": "code",
   "execution_count": 539,
   "metadata": {},
   "outputs": [],
   "source": [
    "soup=BeautifulSoup(file,\"html.parser\")\n",
    "res=soup.find_all(\"i\",class_=\"fa fa-info-circle fa-lg\")\n",
    "k={}\n",
    "po=[]\n",
    "pil=0\n",
    "fil=0\n",
    "for i in res:\n",
    "    k={}\n",
    "    test=i\n",
    "    test=test.attrs[\"onclick\"]\n",
    "    rest=re.search(\"\\((.+)\\)\",test).groups()[0][1:-1]\n",
    "    rest=str(rest).replace(\"<br>\",\"\")\n",
    "    soop=BeautifulSoup(rest,\"html.parser\")\n",
    "    for i in range(0,len(soop.contents),2):\n",
    "\n",
    "        lanza=str(soop.contents[i]).strip()\n",
    "        lanza=lanza.replace(\"<b>\",\"\")\n",
    "        lanza=lanza.replace(\"</b>\",\"\")\n",
    "        lanza=lanza.replace(\":\",\"\")\n",
    "        lanza=lanza.replace(\"-\",\"\")\n",
    "        lanza=lanza.strip()\n",
    "        lanza=str(lanza)\n",
    "        fanza=str(soop.contents[i+1]).strip()\n",
    "        k.update({lanza:fanza})\n",
    "    if(len(k)>pil):\n",
    "        pil=len(k)\n",
    "        fil=k\n",
    "    po.append(k)\n",
    "    # fef=pd.Series(k.values())\n",
    "    # ref.loc[len(ref)]=fef\n",
    "ref=pd.DataFrame(columns=list(fil.keys()))\n",
    "for i in po:\n",
    "    fef=pd.Series(i.values(),index=list(i.keys()))\n",
    "    ref.loc[len(ref)]=fef"
   ]
  },
  {
   "cell_type": "markdown",
   "metadata": {},
   "source": [
    "### Merging & **DataScience**"
   ]
  },
  {
   "cell_type": "code",
   "execution_count": 540,
   "metadata": {},
   "outputs": [],
   "source": [
    "df=pd.concat([df,ref],axis=1).head(170)\n",
    "df.drop([\"Unnamed: 11\"],axis=1,inplace=True)\n",
    "pef=df.copy()"
   ]
  },
  {
   "cell_type": "code",
   "execution_count": 541,
   "metadata": {},
   "outputs": [],
   "source": [
    "def corrector(name:str):\n",
    "    res=re.findall(r\"\\d+\",name)[0]\n",
    "    res=str(res).strip()\n",
    "    res=int(res)\n",
    "    return res\n",
    "def exam_ex(name:str):\n",
    "    name=str(name).strip()\n",
    "    # print(name)\n",
    "    res=re.search(r\"(\\w+) ساعت (\\d+)\",name).groups()\n",
    "    return (res[0],int(res[-1]))\n",
    "def faculty_ex(name):\n",
    "    try:\n",
    "        res=re.search(r\"کلاس در دانشکده (.+) برگزار میشود\",name).groups()[0]\n",
    "        return res\n",
    "    except:\n",
    "        return np.NaN\n",
    "def fully(name:str):\n",
    "    d=name.split(\"/\")\n",
    "    b=int(d[0])\n",
    "    c=int(d[-1])\n",
    "    if(b==c):\n",
    "        return True\n",
    "    else:\n",
    "        return False"
   ]
  },
  {
   "cell_type": "code",
   "execution_count": 542,
   "metadata": {},
   "outputs": [
    {
     "data": {
      "text/plain": [
       "(61, 12)"
      ]
     },
     "execution_count": 542,
     "metadata": {},
     "output_type": "execute_result"
    }
   ],
   "source": [
    "pef[\"Male\"]=pef[\"قابل انتخاب برای دانشجویان\"].transform(lambda x: True if \"مرد\" in str(x) else False)\n",
    "pef[\"Valid_Year\"]=pef[\"قابل انتخاب برای دانشجویان\"].transform(lambda x: corrector(x))\n",
    "pef[\"Exam_day\"]=pef[\"امتحان روز\"].transform(lambda x: str(exam_ex(x)[0]).split())\n",
    "pef[\"Exam_time\"]=pef[\"امتحان روز\"].transform(lambda x: exam_ex(x)[-1])\n",
    "pef.drop([\"امتحان روز\",\"زبان ارائه\",\"دانشکده\",\"مقطع\",\"نحوه ارائه\",\"قابل انتخاب برای دانشجویان\"],inplace=True,axis=1)\n",
    "pef.drop(pef[~pef[\"جلسه دوم روز\"].isna()].index,axis=0,inplace=True)\n",
    "pef=pef[pef[\"واحد\"]==2]\n",
    "pef.rename(columns={\"جلسه اول روز\":\"Class Time\"},inplace=True)\n",
    "pef[\"Class Time\"]=pef[\"Class Time\"].apply(lambda x: str(exam_ex(x)[0])+\"_\"+str(exam_ex(x)[-1])  )\n",
    "pef.drop([\"جلسه دوم روز\"],inplace=True,axis=1)\n",
    "pef=pef[(pef[\"واحد\"]==2) & (pef[\"Male\"]==True)]\n",
    "pef.index=pef[\"ردیف\"]\n",
    "pef.drop([\"Male\",\"واحد\",\"ردیف\"],inplace=True,axis=1)\n",
    "pef.rename(columns={\"شرح درس\":\"Faculty\"},inplace=True)\n",
    "pef[\"Faculty\"]=pef[\"Faculty\"].apply(lambda x:faculty_ex(x))\n",
    "pef.drop(pef[pef[\"Faculty\"].isna()].index,axis=0,inplace=True)\n",
    "pef.rename(columns={\"ثبت نام شده\":\"Register_Status\"},inplace=True)\n",
    "pef[\"Register_Status\"]=pef[\"Register_Status\"].astype(\"str\")\n",
    "pef[\"ظرفیت\"]=pef[\"ظرفیت\"].astype(\"str\")\n",
    "pef[\"Register_Status\"]=pef[\"Register_Status\"]+\"/\"+pef[\"ظرفیت\"]\n",
    "pef.drop([\"ظرفیت\"],inplace=True,axis=1)\n",
    "Shomareh=pef.drop([\"شماره درس\"],axis=1)\n",
    "pef.drop([\"شماره درس\"],inplace=True,axis=1)\n",
    "pef[\"Full\"]=pef[\"Register_Status\"].transform(lambda x:fully(x))\n",
    "pef.shape"
   ]
  },
  {
   "cell_type": "code",
   "execution_count": 545,
   "metadata": {},
   "outputs": [],
   "source": [
    "df=pef.copy()"
   ]
  },
  {
   "cell_type": "markdown",
   "metadata": {},
   "source": [
    "### Finally"
   ]
  },
  {
   "cell_type": "code",
   "execution_count": 554,
   "metadata": {},
   "outputs": [],
   "source": [
    "f=df.sort_values(by=[\"رزرو\"],ascending=False)[[\"نام استاد\",\"رزرو\"]]"
   ]
  },
  {
   "cell_type": "code",
   "execution_count": 556,
   "metadata": {},
   "outputs": [
    {
     "data": {
      "text/html": [
       "<div>\n",
       "<style scoped>\n",
       "    .dataframe tbody tr th:only-of-type {\n",
       "        vertical-align: middle;\n",
       "    }\n",
       "\n",
       "    .dataframe tbody tr th {\n",
       "        vertical-align: top;\n",
       "    }\n",
       "\n",
       "    .dataframe thead th {\n",
       "        text-align: right;\n",
       "    }\n",
       "</style>\n",
       "<table border=\"1\" class=\"dataframe\">\n",
       "  <thead>\n",
       "    <tr style=\"text-align: right;\">\n",
       "      <th></th>\n",
       "      <th>نام استاد</th>\n",
       "      <th>رزرو</th>\n",
       "    </tr>\n",
       "    <tr>\n",
       "      <th>ردیف</th>\n",
       "      <th></th>\n",
       "      <th></th>\n",
       "    </tr>\n",
       "  </thead>\n",
       "  <tbody>\n",
       "    <tr>\n",
       "      <th>46</th>\n",
       "      <td>سید علی دریاباری</td>\n",
       "      <td>21</td>\n",
       "    </tr>\n",
       "    <tr>\n",
       "      <th>157</th>\n",
       "      <td>یاسر دلشاد</td>\n",
       "      <td>17</td>\n",
       "    </tr>\n",
       "    <tr>\n",
       "      <th>161</th>\n",
       "      <td>رضا مرشدلو</td>\n",
       "      <td>15</td>\n",
       "    </tr>\n",
       "    <tr>\n",
       "      <th>45</th>\n",
       "      <td>سید علی دریاباری</td>\n",
       "      <td>11</td>\n",
       "    </tr>\n",
       "    <tr>\n",
       "      <th>56</th>\n",
       "      <td>یاسر دلشاد</td>\n",
       "      <td>11</td>\n",
       "    </tr>\n",
       "    <tr>\n",
       "      <th>...</th>\n",
       "      <td>...</td>\n",
       "      <td>...</td>\n",
       "    </tr>\n",
       "    <tr>\n",
       "      <th>128</th>\n",
       "      <td>NaN</td>\n",
       "      <td>0</td>\n",
       "    </tr>\n",
       "    <tr>\n",
       "      <th>123</th>\n",
       "      <td>NaN</td>\n",
       "      <td>0</td>\n",
       "    </tr>\n",
       "    <tr>\n",
       "      <th>122</th>\n",
       "      <td>عباسعلی نصر آبادی</td>\n",
       "      <td>0</td>\n",
       "    </tr>\n",
       "    <tr>\n",
       "      <th>142</th>\n",
       "      <td>محسن نورمحمدی</td>\n",
       "      <td>0</td>\n",
       "    </tr>\n",
       "    <tr>\n",
       "      <th>164</th>\n",
       "      <td>ایوب اکرمی</td>\n",
       "      <td>0</td>\n",
       "    </tr>\n",
       "  </tbody>\n",
       "</table>\n",
       "<p>61 rows × 2 columns</p>\n",
       "</div>"
      ],
      "text/plain": [
       "              نام استاد  رزرو\n",
       "ردیف                         \n",
       "46     سید علی دریاباری    21\n",
       "157          یاسر دلشاد    17\n",
       "161          رضا مرشدلو    15\n",
       "45     سید علی دریاباری    11\n",
       "56           یاسر دلشاد    11\n",
       "...                 ...   ...\n",
       "128                 NaN     0\n",
       "123                 NaN     0\n",
       "122   عباسعلی نصر آبادی     0\n",
       "142       محسن نورمحمدی     0\n",
       "164          ایوب اکرمی     0\n",
       "\n",
       "[61 rows x 2 columns]"
      ]
     },
     "execution_count": 556,
     "metadata": {},
     "output_type": "execute_result"
    }
   ],
   "source": [
    "f"
   ]
  }
 ],
 "metadata": {
  "kernelspec": {
   "display_name": "qenv",
   "language": "python",
   "name": "python3"
  },
  "language_info": {
   "codemirror_mode": {
    "name": "ipython",
    "version": 3
   },
   "file_extension": ".py",
   "mimetype": "text/x-python",
   "name": "python",
   "nbconvert_exporter": "python",
   "pygments_lexer": "ipython3",
   "version": "3.10.12"
  },
  "orig_nbformat": 4
 },
 "nbformat": 4,
 "nbformat_minor": 2
}
